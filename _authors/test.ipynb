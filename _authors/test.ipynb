{
 "cells": [
  {
   "cell_type": "code",
   "execution_count": 1,
   "metadata": {},
   "outputs": [],
   "source": [
    "import os\n",
    "\n",
    "# get all the .md files in this directory\n",
    "files = [f for f in os.listdir('.') if os.path.isfile(f) and f.endswith('.md')]"
   ]
  },
  {
   "cell_type": "code",
   "execution_count": 30,
   "metadata": {},
   "outputs": [
    {
     "name": "stderr",
     "output_type": "stream",
     "text": [
      "C:\\Users\\findm\\AppData\\Local\\Temp\\ipykernel_28100\\2030452099.py:11: YAMLLoadWarning: calling yaml.load() without Loader=... is deprecated, as the default Loader is unsafe. Please read https://msg.pyyaml.org/load for full details.\n",
      "  yaml_dict = yaml.load(yaml_str)\n"
     ]
    }
   ],
   "source": [
    "import yaml\n",
    "\n",
    "authors = []\n",
    "# parse the yaml front matter between the two ---'s\n",
    "for f in files:\n",
    "    with open(f, 'r') as file:\n",
    "        lines = file.readlines()\n",
    "        start = lines.index('---\\n')\n",
    "        end = lines.index('---\\n', start + 1)\n",
    "        yaml_str = ''.join(lines[start:end])\n",
    "        yaml_dict = yaml.load(yaml_str)\n",
    "        yaml_dict['bio'] = ''.join(lines[end+1:])\n",
    "        authors.append(yaml_dict)"
   ]
  },
  {
   "cell_type": "code",
   "execution_count": 31,
   "metadata": {},
   "outputs": [],
   "source": [
    "# make a new list of the author entries, but only with the title, image, option, house, class, pronouns, and bio, if they exist\n",
    "authors = [{k: v for k, v in author.items() if k in ['title', 'image', 'option', 'house', 'class', 'pronouns', 'bio']} for author in authors]\n",
    "\n",
    "# remove \\n's at front and end of bio\n",
    "for author in authors:\n",
    "    author['bio'] = author['bio'].strip()\n",
    "    \n",
    "# if the author entry only has two keys, then it's empty, so remove it\n",
    "authors = [author for author in authors if len(author.keys()) > 2]"
   ]
  },
  {
   "cell_type": "code",
   "execution_count": 33,
   "metadata": {},
   "outputs": [],
   "source": [
    "# for the image entry, if it exists, it's probably in the form of a URL. if it is, then download that image and save it locally\n",
    "import requests\n",
    "from PIL import Image\n",
    "from io import BytesIO\n",
    "\n",
    "for author in authors:\n",
    "    if 'image' in author.keys():\n",
    "        if author['image'].startswith('http'):\n",
    "            response = requests.get(author['image'])\n",
    "            img = Image.open(BytesIO(response.content))\n",
    "            # make sure the format is compatible to be saved as a jpg\n",
    "            if img.format == 'PNG':\n",
    "                img = img.convert('RGB')\n",
    "            img.save('/Users/findm/Desktop/admissions/blog_assets/profile_pics2/' + author['title'] + '.jpg')\n",
    "            author['image'] = author['title'] + '.jpg'"
   ]
  },
  {
   "cell_type": "code",
   "execution_count": 36,
   "metadata": {},
   "outputs": [],
   "source": [
    "# save the authors list as a yaml file. no newlines in bio\n",
    "with open('authors.yaml', 'w') as file:\n",
    "    yaml.dump(authors, file, default_flow_style=False, allow_unicode=True)"
   ]
  },
  {
   "cell_type": "code",
   "execution_count": null,
   "metadata": {},
   "outputs": [],
   "source": []
  }
 ],
 "metadata": {
  "kernelspec": {
   "display_name": "base",
   "language": "python",
   "name": "python3"
  },
  "language_info": {
   "codemirror_mode": {
    "name": "ipython",
    "version": 3
   },
   "file_extension": ".py",
   "mimetype": "text/x-python",
   "name": "python",
   "nbconvert_exporter": "python",
   "pygments_lexer": "ipython3",
   "version": "3.10.8"
  },
  "orig_nbformat": 4
 },
 "nbformat": 4,
 "nbformat_minor": 2
}
