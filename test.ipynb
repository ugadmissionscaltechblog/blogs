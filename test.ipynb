{
 "cells": [
  {
   "cell_type": "code",
   "execution_count": 49,
   "metadata": {},
   "outputs": [],
   "source": [
    "import os\n",
    "\n",
    "# get all the .md files in the _posts directory\n",
    "files = os.listdir('_posts')\n",
    "\n",
    "import yaml\n",
    "import datetime\n",
    "\n",
    "category_dict = {\n",
    "    'academics': 7847,\n",
    "    'culture': 1098,\n",
    "    'local': 705,\n",
    "    'research':668,\n",
    "    'global': 21656,\n",
    "    'clubs': 23200,\n",
    "    'uncategorized': 1,\n",
    "}"
   ]
  },
  {
   "cell_type": "code",
   "execution_count": 50,
   "metadata": {},
   "outputs": [
    {
     "name": "stderr",
     "output_type": "stream",
     "text": [
      "C:\\Users\\findm\\AppData\\Local\\Temp\\ipykernel_29640\\185268248.py:10: YAMLLoadWarning: calling yaml.load() without Loader=... is deprecated, as the default Loader is unsafe. Please read https://msg.pyyaml.org/load for full details.\n",
      "  yaml_dict = yaml.load(yaml_str)\n"
     ]
    }
   ],
   "source": [
    "posts = []\n",
    "# parse the yaml front matter between the two ---'s\n",
    "for f in files:\n",
    "    f=\"_posts/\"+f\n",
    "    with open(f, 'r') as file:\n",
    "        lines = file.readlines()\n",
    "        start = lines.index('---\\n')\n",
    "        end = lines.index('---\\n', start + 1)\n",
    "        yaml_str = ''.join(lines[start:end])\n",
    "        yaml_dict = yaml.load(yaml_str)\n",
    "        yaml_dict['the_rest'] = ''.join(lines[end+1:])\n",
    "        yaml_dict['filename'] = f\n",
    "        posts.append(yaml_dict)\n",
    "        \n",
    "# make sure all the posts have title, author, date, categories, image, and the_rest, and add them if not\n",
    "for post in posts:\n",
    "    if 'title' not in post:\n",
    "        post['title'] = ''\n",
    "    if 'author' not in post:\n",
    "        post['author'] = ''\n",
    "    if 'date' not in post:\n",
    "        # see if the filename begins with a date YYYY-MM-DD\n",
    "        if len(post['filename']) >= 10 and post['filename'][:10].replace('-', '').isdigit():\n",
    "            post['date'] = datetime.datetime.strptime(post['filename'][:10], '%Y-%m-%d')\n",
    "        else:\n",
    "            post['date'] = datetime.datetime.now()\n",
    "    if isinstance(post['date'], datetime.date):\n",
    "        post['date'] = post['date'].strftime('%Y-%m-%d')\n",
    "    if 'categories' not in post:\n",
    "        post['categories'] = ['uncategorized']\n",
    "    if 'image' not in post:\n",
    "        post['image'] = ''\n",
    "    if 'the_rest' not in post:\n",
    "        post['the_rest'] = ''\n",
    "    \n",
    "#convert the categories to a list of integers\n",
    "for post in posts:\n",
    "    post['categories'] = category_dict[post['categories'][0]]\n",
    "    post['image'] = '/wp-content/uploads' + post['image']\n",
    "    \n",
    "posts = [{k: v for k, v in post.items() if k in ['title', 'image', 'date', 'categories', 'author', 'the_rest', 'filename']} for post in posts]"
   ]
  },
  {
   "cell_type": "code",
   "execution_count": 1,
   "metadata": {},
   "outputs": [
    {
     "ename": "NameError",
     "evalue": "name 'posts' is not defined",
     "output_type": "error",
     "traceback": [
      "\u001b[1;31m---------------------------------------------------------------------------\u001b[0m",
      "\u001b[1;31mNameError\u001b[0m                                 Traceback (most recent call last)",
      "Cell \u001b[1;32mIn[1], line 2\u001b[0m\n\u001b[0;32m      1\u001b[0m \u001b[39m# export the posts into new files\u001b[39;00m\n\u001b[1;32m----> 2\u001b[0m \u001b[39mfor\u001b[39;00m post \u001b[39min\u001b[39;00m posts:\n\u001b[0;32m      3\u001b[0m     \u001b[39mwith\u001b[39;00m \u001b[39mopen\u001b[39m(\u001b[39m'\u001b[39m\u001b[39mwp_posts/\u001b[39m\u001b[39m'\u001b[39m \u001b[39m+\u001b[39m post[\u001b[39m'\u001b[39m\u001b[39mfilename\u001b[39m\u001b[39m'\u001b[39m], \u001b[39m'\u001b[39m\u001b[39mwb\u001b[39m\u001b[39m'\u001b[39m) \u001b[39mas\u001b[39;00m file:\n\u001b[0;32m      4\u001b[0m         file\u001b[39m.\u001b[39mwrite(\u001b[39m'\u001b[39m\u001b[39m---\u001b[39m\u001b[39m\\n\u001b[39;00m\u001b[39m'\u001b[39m)\n",
      "\u001b[1;31mNameError\u001b[0m: name 'posts' is not defined"
     ]
    }
   ],
   "source": [
    "# export the posts into new files\n",
    "for post in posts:\n",
    "    with open('wp_posts/' + post['filename'], 'wb') as file:\n",
    "        file.write('---\\n')\n",
    "        file.write('title: ' + post['title'] + '\\n')\n",
    "        file.write('image: ' + post['image'] + '\\n')\n",
    "        file.write('date: ' + post['date'][:10] + '\\n')\n",
    "        file.write('categories: ' + str(post['categories']) + '\\n')\n",
    "        file.write('author: ' + post['author'] + '\\n')\n",
    "        file.write('---\\n')\n",
    "        file.write(post['the_rest'])"
   ]
  },
  {
   "cell_type": "code",
   "execution_count": null,
   "metadata": {},
   "outputs": [],
   "source": []
  }
 ],
 "metadata": {
  "kernelspec": {
   "display_name": "base",
   "language": "python",
   "name": "python3"
  },
  "language_info": {
   "codemirror_mode": {
    "name": "ipython",
    "version": 3
   },
   "file_extension": ".py",
   "mimetype": "text/x-python",
   "name": "python",
   "nbconvert_exporter": "python",
   "pygments_lexer": "ipython3",
   "version": "3.10.8"
  },
  "orig_nbformat": 4
 },
 "nbformat": 4,
 "nbformat_minor": 2
}
